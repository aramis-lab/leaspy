{
  "cells": [
    {
      "cell_type": "markdown",
      "metadata": {},
      "source": [
        "\n# Quickstart with Leaspy\n"
      ]
    },
    {
      "cell_type": "markdown",
      "metadata": {},
      "source": [
        "## Comprehensive example\nWe first load synthetic data in a long format to get of a grasp of longitudinal data:\n\n"
      ]
    },
    {
      "cell_type": "code",
      "execution_count": null,
      "metadata": {
        "collapsed": false
      },
      "outputs": [],
      "source": [
        "from leaspy.datasets import load_dataset\n\nalzheimer_df = load_dataset(\"alzheimer-multivariate\")\nprint(alzheimer_df.columns)\nalzheimer_df = alzheimer_df[[\"MMSE\", \"RAVLT\", \"FAQ\", \"FDG PET\"]]\nprint(alzheimer_df.head())"
      ]
    },
    {
      "cell_type": "markdown",
      "metadata": {},
      "source": [
        "The data correspond to repeated visits (`TIME` index) of different participants (`ID` index).\nEach visit corresponds to the measurement of 4 different outcomes : the MMSE, the RAVLT, the FAQ and the FDG PET.\nIf plotted, the data would look like the following:\n\n<img src=\"https://leaspy.readthedocs.io/en/stable/_images/alzheimer-observations.png\" width=\"600\" alt=\"Alzeimer observations\">\n\n"
      ]
    },
    {
      "cell_type": "markdown",
      "metadata": {},
      "source": [
        "Where each color corresponds to a variable, and the connected dots corresponds to the repeated visits of a single participant.\nNot very engaging, right ? To go a step further, let's first encapsulate the data into the main `Data` container:\n\n"
      ]
    },
    {
      "cell_type": "code",
      "execution_count": null,
      "metadata": {
        "collapsed": false
      },
      "outputs": [],
      "source": [
        "from leaspy.io.data import Data, Dataset\n\ndata = Data.from_dataframe(alzheimer_df)\ndataset = Dataset(data)"
      ]
    },
    {
      "cell_type": "markdown",
      "metadata": {},
      "source": [
        "Leaspy core functionality is to estimate the group-average trajectory of the different variables that are measured in a population.\nClinical scores often have a ceiling and a floor effect, so let's initialize a multivariate logistic model:\n\n"
      ]
    },
    {
      "cell_type": "code",
      "execution_count": null,
      "metadata": {
        "collapsed": false
      },
      "outputs": [],
      "source": [
        "from leaspy.models import LogisticMultivariateModel\n\nmodel = LogisticMultivariateModel(name=\"test-model\", source_dimension=2)"
      ]
    },
    {
      "cell_type": "markdown",
      "metadata": {},
      "source": [
        "As well as the algorithm needed to estimate the group-average trajectory:\n\n"
      ]
    },
    {
      "cell_type": "code",
      "execution_count": null,
      "metadata": {
        "collapsed": false
      },
      "outputs": [],
      "source": [
        "from leaspy.algo import AlgorithmSettings, algorithm_factory\n\nfit_settings = AlgorithmSettings(\n    \"mcmc_saem\", seed=42, n_iter=100, progress_bar=False, save_periodicity=None\n)\nalgorithm = algorithm_factory(fit_settings)\nmodel.initialize(dataset, fit_settings.model_initialization_method)\nalgorithm.run(model, dataset)"
      ]
    },
    {
      "cell_type": "markdown",
      "metadata": {},
      "source": [
        "If we were to plot the measured average progression of the variables, see started example notebook for details, it would look like the following:\n\n<img src=\"https://leaspy.readthedocs.io/en/stable/_images/alzheimer-model.png\" width=\"600\" alt=\"Alzeimer model\">\n\n"
      ]
    },
    {
      "cell_type": "markdown",
      "metadata": {},
      "source": [
        "We can also derive the individual trajectory of each subject.\nTo do this, we use a personalization algorithm called `scipy_minimize`:\n\n"
      ]
    },
    {
      "cell_type": "code",
      "execution_count": null,
      "metadata": {
        "collapsed": false
      },
      "outputs": [],
      "source": [
        "personalize_settings = AlgorithmSettings(\"scipy_minimize\", seed=0, progress_bar=False)\nalgorithm = algorithm_factory(personalize_settings)\nindividual_parameters = algorithm.run(model, dataset)\nprint(individual_parameters.to_dataframe())"
      ]
    },
    {
      "cell_type": "markdown",
      "metadata": {},
      "source": [
        "Plotting the input participant data against its personalization would give the following, see started example notebook for details.\n\n<img src=\"https://leaspy.readthedocs.io/en/stable/_images/alzheimer-subject_trajectories.png\" width=\"600\" alt=\"Alzeimer subject trajectories\">\n\n"
      ]
    },
    {
      "cell_type": "markdown",
      "metadata": {},
      "source": [
        "## Using my own data\n\n### Data format\n\nLeaspy uses its own data container. To use it properly, you need to provide a csv file or a pandas.DataFrame in the right format: longitudinal data in a long format.\nLet's have a look at the data used in the previous example:\n\n"
      ]
    },
    {
      "cell_type": "code",
      "execution_count": null,
      "metadata": {
        "collapsed": false
      },
      "outputs": [],
      "source": [
        "print(alzheimer_df.head())"
      ]
    },
    {
      "cell_type": "markdown",
      "metadata": {},
      "source": [
        "You **MUST** have `ID` and `TIME`, either in index or in the columns. The other columns must be the observed variables (also named features or endpoints). In this fashion, you have one column per feature and one line per visit.\n\n"
      ]
    },
    {
      "cell_type": "markdown",
      "metadata": {},
      "source": [
        "### Data scale & constraints\n\nLeaspy uses linear and logistic models. The features MUST be increasing with time. For the logistic model, you need to rescale your data between 0 and 1.\n\n\n"
      ]
    },
    {
      "cell_type": "markdown",
      "metadata": {},
      "source": [
        "### Missing data\nLeaspy automatically handles missing data as long as they are encoded as nan in your pandas.DataFrame, or as empty values in your csv file.\n\n"
      ]
    },
    {
      "cell_type": "markdown",
      "metadata": {},
      "source": [
        "### Going further\nYou can check the [user_guide](../user_guide.md) and the full API documentation.\n\nYou can also dive into the [examples](./index.rst).\n\nThe [Disease Progression Modelling](https://disease-progression-modelling.github.io/) website also hosts a [mathematical introduction](https://disease-progression-modelling.github.io/pages/models/disease_course_mapping.html) and [tutorials](https://disease-progression-modelling.github.io/pages/notebooks/disease_course_mapping/disease_course_mapping.html) for Leaspy.\n\n"
      ]
    }
  ],
  "metadata": {
    "kernelspec": {
      "display_name": "Python 3",
      "language": "python",
      "name": "python3"
    },
    "language_info": {
      "codemirror_mode": {
        "name": "ipython",
        "version": 3
      },
      "file_extension": ".py",
      "mimetype": "text/x-python",
      "name": "python",
      "nbconvert_exporter": "python",
      "pygments_lexer": "ipython3",
      "version": "3.9.21"
    }
  },
  "nbformat": 4,
  "nbformat_minor": 0
}